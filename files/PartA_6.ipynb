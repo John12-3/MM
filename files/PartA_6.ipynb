{
  "nbformat": 4,
  "nbformat_minor": 0,
  "metadata": {
    "colab": {
      "provenance": []
    },
    "kernelspec": {
      "name": "python3",
      "display_name": "Python 3"
    },
    "language_info": {
      "name": "python"
    }
  },
  "cells": [
    {
      "cell_type": "code",
      "execution_count": null,
      "metadata": {
        "id": "IL0Mo87c33gt"
      },
      "outputs": [],
      "source": [
        "import pandas as pd\n",
        "import numpy as np"
      ]
    },
    {
      "cell_type": "code",
      "source": [
        "df = pd.read_csv(\"/content/sample_data/Logistic_Regression_Dataset_Students.csv\",names=[\"x1\",\"x2\",\"y\"])"
      ],
      "metadata": {
        "id": "D22AHKT84Puh"
      },
      "execution_count": 12,
      "outputs": []
    },
    {
      "cell_type": "code",
      "source": [
        "df"
      ],
      "metadata": {
        "colab": {
          "base_uri": "https://localhost:8080/",
          "height": 423
        },
        "id": "rvP7X_5q4ZW7",
        "outputId": "7f9d9221-b7af-4d5d-9925-c3a8e0b84370"
      },
      "execution_count": 13,
      "outputs": [
        {
          "output_type": "execute_result",
          "data": {
            "text/plain": [
              "           x1         x2  y\n",
              "0   34.623660  78.024693  0\n",
              "1   30.286711  43.894998  0\n",
              "2   35.847409  72.902198  0\n",
              "3   60.182599  86.308552  1\n",
              "4   79.032736  75.344376  1\n",
              "..        ...        ... ..\n",
              "95  83.489163  48.380286  1\n",
              "96  42.261701  87.103851  1\n",
              "97  99.315009  68.775409  1\n",
              "98  55.340018  64.931938  1\n",
              "99  74.775893  89.529813  1\n",
              "\n",
              "[100 rows x 3 columns]"
            ],
            "text/html": [
              "\n",
              "  <div id=\"df-962e44fd-24a1-4917-84cb-b6f661abf611\">\n",
              "    <div class=\"colab-df-container\">\n",
              "      <div>\n",
              "<style scoped>\n",
              "    .dataframe tbody tr th:only-of-type {\n",
              "        vertical-align: middle;\n",
              "    }\n",
              "\n",
              "    .dataframe tbody tr th {\n",
              "        vertical-align: top;\n",
              "    }\n",
              "\n",
              "    .dataframe thead th {\n",
              "        text-align: right;\n",
              "    }\n",
              "</style>\n",
              "<table border=\"1\" class=\"dataframe\">\n",
              "  <thead>\n",
              "    <tr style=\"text-align: right;\">\n",
              "      <th></th>\n",
              "      <th>x1</th>\n",
              "      <th>x2</th>\n",
              "      <th>y</th>\n",
              "    </tr>\n",
              "  </thead>\n",
              "  <tbody>\n",
              "    <tr>\n",
              "      <th>0</th>\n",
              "      <td>34.623660</td>\n",
              "      <td>78.024693</td>\n",
              "      <td>0</td>\n",
              "    </tr>\n",
              "    <tr>\n",
              "      <th>1</th>\n",
              "      <td>30.286711</td>\n",
              "      <td>43.894998</td>\n",
              "      <td>0</td>\n",
              "    </tr>\n",
              "    <tr>\n",
              "      <th>2</th>\n",
              "      <td>35.847409</td>\n",
              "      <td>72.902198</td>\n",
              "      <td>0</td>\n",
              "    </tr>\n",
              "    <tr>\n",
              "      <th>3</th>\n",
              "      <td>60.182599</td>\n",
              "      <td>86.308552</td>\n",
              "      <td>1</td>\n",
              "    </tr>\n",
              "    <tr>\n",
              "      <th>4</th>\n",
              "      <td>79.032736</td>\n",
              "      <td>75.344376</td>\n",
              "      <td>1</td>\n",
              "    </tr>\n",
              "    <tr>\n",
              "      <th>...</th>\n",
              "      <td>...</td>\n",
              "      <td>...</td>\n",
              "      <td>...</td>\n",
              "    </tr>\n",
              "    <tr>\n",
              "      <th>95</th>\n",
              "      <td>83.489163</td>\n",
              "      <td>48.380286</td>\n",
              "      <td>1</td>\n",
              "    </tr>\n",
              "    <tr>\n",
              "      <th>96</th>\n",
              "      <td>42.261701</td>\n",
              "      <td>87.103851</td>\n",
              "      <td>1</td>\n",
              "    </tr>\n",
              "    <tr>\n",
              "      <th>97</th>\n",
              "      <td>99.315009</td>\n",
              "      <td>68.775409</td>\n",
              "      <td>1</td>\n",
              "    </tr>\n",
              "    <tr>\n",
              "      <th>98</th>\n",
              "      <td>55.340018</td>\n",
              "      <td>64.931938</td>\n",
              "      <td>1</td>\n",
              "    </tr>\n",
              "    <tr>\n",
              "      <th>99</th>\n",
              "      <td>74.775893</td>\n",
              "      <td>89.529813</td>\n",
              "      <td>1</td>\n",
              "    </tr>\n",
              "  </tbody>\n",
              "</table>\n",
              "<p>100 rows × 3 columns</p>\n",
              "</div>\n",
              "      <button class=\"colab-df-convert\" onclick=\"convertToInteractive('df-962e44fd-24a1-4917-84cb-b6f661abf611')\"\n",
              "              title=\"Convert this dataframe to an interactive table.\"\n",
              "              style=\"display:none;\">\n",
              "        \n",
              "  <svg xmlns=\"http://www.w3.org/2000/svg\" height=\"24px\"viewBox=\"0 0 24 24\"\n",
              "       width=\"24px\">\n",
              "    <path d=\"M0 0h24v24H0V0z\" fill=\"none\"/>\n",
              "    <path d=\"M18.56 5.44l.94 2.06.94-2.06 2.06-.94-2.06-.94-.94-2.06-.94 2.06-2.06.94zm-11 1L8.5 8.5l.94-2.06 2.06-.94-2.06-.94L8.5 2.5l-.94 2.06-2.06.94zm10 10l.94 2.06.94-2.06 2.06-.94-2.06-.94-.94-2.06-.94 2.06-2.06.94z\"/><path d=\"M17.41 7.96l-1.37-1.37c-.4-.4-.92-.59-1.43-.59-.52 0-1.04.2-1.43.59L10.3 9.45l-7.72 7.72c-.78.78-.78 2.05 0 2.83L4 21.41c.39.39.9.59 1.41.59.51 0 1.02-.2 1.41-.59l7.78-7.78 2.81-2.81c.8-.78.8-2.07 0-2.86zM5.41 20L4 18.59l7.72-7.72 1.47 1.35L5.41 20z\"/>\n",
              "  </svg>\n",
              "      </button>\n",
              "      \n",
              "  <style>\n",
              "    .colab-df-container {\n",
              "      display:flex;\n",
              "      flex-wrap:wrap;\n",
              "      gap: 12px;\n",
              "    }\n",
              "\n",
              "    .colab-df-convert {\n",
              "      background-color: #E8F0FE;\n",
              "      border: none;\n",
              "      border-radius: 50%;\n",
              "      cursor: pointer;\n",
              "      display: none;\n",
              "      fill: #1967D2;\n",
              "      height: 32px;\n",
              "      padding: 0 0 0 0;\n",
              "      width: 32px;\n",
              "    }\n",
              "\n",
              "    .colab-df-convert:hover {\n",
              "      background-color: #E2EBFA;\n",
              "      box-shadow: 0px 1px 2px rgba(60, 64, 67, 0.3), 0px 1px 3px 1px rgba(60, 64, 67, 0.15);\n",
              "      fill: #174EA6;\n",
              "    }\n",
              "\n",
              "    [theme=dark] .colab-df-convert {\n",
              "      background-color: #3B4455;\n",
              "      fill: #D2E3FC;\n",
              "    }\n",
              "\n",
              "    [theme=dark] .colab-df-convert:hover {\n",
              "      background-color: #434B5C;\n",
              "      box-shadow: 0px 1px 3px 1px rgba(0, 0, 0, 0.15);\n",
              "      filter: drop-shadow(0px 1px 2px rgba(0, 0, 0, 0.3));\n",
              "      fill: #FFFFFF;\n",
              "    }\n",
              "  </style>\n",
              "\n",
              "      <script>\n",
              "        const buttonEl =\n",
              "          document.querySelector('#df-962e44fd-24a1-4917-84cb-b6f661abf611 button.colab-df-convert');\n",
              "        buttonEl.style.display =\n",
              "          google.colab.kernel.accessAllowed ? 'block' : 'none';\n",
              "\n",
              "        async function convertToInteractive(key) {\n",
              "          const element = document.querySelector('#df-962e44fd-24a1-4917-84cb-b6f661abf611');\n",
              "          const dataTable =\n",
              "            await google.colab.kernel.invokeFunction('convertToInteractive',\n",
              "                                                     [key], {});\n",
              "          if (!dataTable) return;\n",
              "\n",
              "          const docLinkHtml = 'Like what you see? Visit the ' +\n",
              "            '<a target=\"_blank\" href=https://colab.research.google.com/notebooks/data_table.ipynb>data table notebook</a>'\n",
              "            + ' to learn more about interactive tables.';\n",
              "          element.innerHTML = '';\n",
              "          dataTable['output_type'] = 'display_data';\n",
              "          await google.colab.output.renderOutput(dataTable, element);\n",
              "          const docLink = document.createElement('div');\n",
              "          docLink.innerHTML = docLinkHtml;\n",
              "          element.appendChild(docLink);\n",
              "        }\n",
              "      </script>\n",
              "    </div>\n",
              "  </div>\n",
              "  "
            ]
          },
          "metadata": {},
          "execution_count": 13
        }
      ]
    },
    {
      "cell_type": "code",
      "source": [
        "x = df.iloc[:,[0,1]].values\n",
        "y = df.iloc[:,2].values"
      ],
      "metadata": {
        "id": "Hbb7QQ734aCB"
      },
      "execution_count": 18,
      "outputs": []
    },
    {
      "cell_type": "code",
      "source": [
        "x"
      ],
      "metadata": {
        "colab": {
          "base_uri": "https://localhost:8080/"
        },
        "id": "L_n-VAWQ4hZZ",
        "outputId": "8fcf1f03-c979-4c47-c023-f6c1ebafbb6c"
      },
      "execution_count": 19,
      "outputs": [
        {
          "output_type": "execute_result",
          "data": {
            "text/plain": [
              "array([[34.62365962, 78.02469282],\n",
              "       [30.28671077, 43.89499752],\n",
              "       [35.84740877, 72.90219803],\n",
              "       [60.18259939, 86.3085521 ],\n",
              "       [79.03273605, 75.34437644],\n",
              "       [45.08327748, 56.31637178],\n",
              "       [61.10666454, 96.51142588],\n",
              "       [75.02474557, 46.55401354],\n",
              "       [76.0987867 , 87.42056972],\n",
              "       [84.43281996, 43.53339331],\n",
              "       [95.86155507, 38.22527806],\n",
              "       [75.01365839, 30.60326323],\n",
              "       [82.30705337, 76.4819633 ],\n",
              "       [69.36458876, 97.71869196],\n",
              "       [39.53833914, 76.03681085],\n",
              "       [53.97105215, 89.20735014],\n",
              "       [69.07014406, 52.74046973],\n",
              "       [67.94685548, 46.67857411],\n",
              "       [70.66150955, 92.92713789],\n",
              "       [76.97878373, 47.57596365],\n",
              "       [67.37202755, 42.83843832],\n",
              "       [89.67677575, 65.79936593],\n",
              "       [50.53478829, 48.85581153],\n",
              "       [34.21206098, 44.2095286 ],\n",
              "       [77.92409145, 68.97235999],\n",
              "       [62.27101367, 69.95445795],\n",
              "       [80.19018075, 44.82162893],\n",
              "       [93.1143888 , 38.80067034],\n",
              "       [61.83020602, 50.25610789],\n",
              "       [38.7858038 , 64.99568096],\n",
              "       [61.37928945, 72.80788731],\n",
              "       [85.40451939, 57.05198398],\n",
              "       [52.10797973, 63.12762377],\n",
              "       [52.04540477, 69.43286012],\n",
              "       [40.23689374, 71.16774802],\n",
              "       [54.63510555, 52.21388588],\n",
              "       [33.91550011, 98.86943574],\n",
              "       [64.17698887, 80.90806059],\n",
              "       [74.78925296, 41.57341523],\n",
              "       [34.18364003, 75.23772034],\n",
              "       [83.90239366, 56.30804622],\n",
              "       [51.54772027, 46.85629026],\n",
              "       [94.44336777, 65.56892161],\n",
              "       [82.36875376, 40.61825516],\n",
              "       [51.04775177, 45.82270146],\n",
              "       [62.22267576, 52.06099195],\n",
              "       [77.19303493, 70.4582    ],\n",
              "       [97.77159928, 86.72782233],\n",
              "       [62.0730638 , 96.76882412],\n",
              "       [91.5649745 , 88.69629255],\n",
              "       [79.94481794, 74.16311935],\n",
              "       [99.27252693, 60.999031  ],\n",
              "       [90.54671411, 43.39060181],\n",
              "       [34.52451385, 60.39634246],\n",
              "       [50.28649612, 49.80453881],\n",
              "       [49.58667722, 59.80895099],\n",
              "       [97.64563396, 68.86157272],\n",
              "       [32.57720017, 95.59854761],\n",
              "       [74.24869137, 69.82457123],\n",
              "       [71.79646206, 78.45356225],\n",
              "       [75.39561147, 85.75993667],\n",
              "       [35.28611282, 47.02051395],\n",
              "       [56.2538175 , 39.26147251],\n",
              "       [30.05882245, 49.59297387],\n",
              "       [44.66826172, 66.45008615],\n",
              "       [66.56089447, 41.09209808],\n",
              "       [40.45755098, 97.53518549],\n",
              "       [49.07256322, 51.88321182],\n",
              "       [80.27957401, 92.11606081],\n",
              "       [66.74671857, 60.99139403],\n",
              "       [32.72283304, 43.30717306],\n",
              "       [64.03932042, 78.03168802],\n",
              "       [72.34649423, 96.22759297],\n",
              "       [60.45788574, 73.0949981 ],\n",
              "       [58.84095622, 75.85844831],\n",
              "       [99.8278578 , 72.36925193],\n",
              "       [47.26426911, 88.475865  ],\n",
              "       [50.4581598 , 75.80985953],\n",
              "       [60.45555629, 42.50840944],\n",
              "       [82.22666158, 42.71987854],\n",
              "       [88.91389642, 69.8037889 ],\n",
              "       [94.83450672, 45.6943068 ],\n",
              "       [67.31925747, 66.58935318],\n",
              "       [57.23870632, 59.51428198],\n",
              "       [80.366756  , 90.9601479 ],\n",
              "       [68.46852179, 85.5943071 ],\n",
              "       [42.07545454, 78.844786  ],\n",
              "       [75.47770201, 90.424539  ],\n",
              "       [78.63542435, 96.64742717],\n",
              "       [52.34800399, 60.76950526],\n",
              "       [94.09433113, 77.15910509],\n",
              "       [90.44855097, 87.50879176],\n",
              "       [55.48216114, 35.57070347],\n",
              "       [74.49269242, 84.84513685],\n",
              "       [89.84580671, 45.35828361],\n",
              "       [83.48916274, 48.3802858 ],\n",
              "       [42.26170081, 87.10385094],\n",
              "       [99.31500881, 68.77540947],\n",
              "       [55.34001756, 64.93193801],\n",
              "       [74.775893  , 89.5298129 ]])"
            ]
          },
          "metadata": {},
          "execution_count": 19
        }
      ]
    },
    {
      "cell_type": "code",
      "source": [
        "y"
      ],
      "metadata": {
        "colab": {
          "base_uri": "https://localhost:8080/"
        },
        "id": "4UUeKTG34ill",
        "outputId": "62c21726-937c-4e61-e7ef-55ba19dbc13b"
      },
      "execution_count": 20,
      "outputs": [
        {
          "output_type": "execute_result",
          "data": {
            "text/plain": [
              "array([0, 0, 0, 1, 1, 0, 1, 1, 1, 1, 0, 0, 1, 1, 0, 1, 1, 0, 1, 1, 0, 1,\n",
              "       0, 0, 1, 1, 1, 0, 0, 0, 1, 1, 0, 1, 0, 0, 0, 1, 0, 0, 1, 0, 1, 0,\n",
              "       0, 0, 1, 1, 1, 1, 1, 1, 1, 0, 0, 0, 1, 0, 1, 1, 1, 0, 0, 0, 0, 0,\n",
              "       1, 0, 1, 1, 0, 1, 1, 1, 1, 1, 1, 1, 0, 0, 1, 1, 1, 1, 1, 1, 0, 1,\n",
              "       1, 0, 1, 1, 0, 1, 1, 1, 1, 1, 1, 1])"
            ]
          },
          "metadata": {},
          "execution_count": 20
        }
      ]
    },
    {
      "cell_type": "code",
      "source": [
        "# we need to preprocess the data\n",
        "b0 = 0.0\n",
        "b1 = 0.0\n",
        "b2 = 0.0\n",
        "from sklearn import preprocessing\n",
        "xp = preprocessing.scale(x)"
      ],
      "metadata": {
        "id": "QMNPU_4P4jnC"
      },
      "execution_count": 21,
      "outputs": []
    },
    {
      "cell_type": "code",
      "source": [
        "# we need to have train,testand split as well has we need to have kfold to split into different folds\n",
        "from sklearn.model_selection import KFold,train_test_split\n",
        "\n",
        "kf = KFold(n_splits=5)"
      ],
      "metadata": {
        "id": "_lDzhYhj40Wv"
      },
      "execution_count": 22,
      "outputs": []
    },
    {
      "cell_type": "code",
      "source": [
        "for train_index,test_index in kf.split(xp):\n",
        "  xtrain,xtest,ytrain,ytest = train_test_split(xp,y,test_size=0.20,random_state=0)\n",
        "  x1 = xtrain[:,0]\n",
        "  x2 = xtrain[:,1]\n",
        "  b0 = 0.0\n",
        "  b1 = 0.0\n",
        "  b2 = 0.0\n",
        "  epoch = 10000\n",
        "  alpha = 0.001\n",
        "  while(epoch > 0):\n",
        "    for i in range(len(xtrain)):\n",
        "      pred = 1/(1+np.exp(-(b0+(b1*x1[i])+(b2*x2[i]))))\n",
        "      b0 = b0 + alpha*(ytrain[i] - pred)*(pred)*(1-pred)*1.0\n",
        "      b1 = b1 + alpha*(ytrain[i] - pred)*(pred)*(1-pred)*x1[i]\n",
        "      b2 = b2 + alpha*(ytrain[i] - pred)*(pred)*(1-pred)*x2[i]\n",
        "    epoch = epoch -1\n",
        "  print(b0)\n",
        "  print(b1)\n",
        "  print(b2)"
      ],
      "metadata": {
        "colab": {
          "base_uri": "https://localhost:8080/"
        },
        "id": "5BWIWPXI5JY5",
        "outputId": "c199654e-0cfb-400e-c12c-f05c0c649720"
      },
      "execution_count": 23,
      "outputs": [
        {
          "output_type": "stream",
          "name": "stdout",
          "text": [
            "0.9875270298732239\n",
            "2.6698848778906488\n",
            "2.7274062957733913\n",
            "0.9875270298732239\n",
            "2.6698848778906488\n",
            "2.7274062957733913\n",
            "0.9875270298732239\n",
            "2.6698848778906488\n",
            "2.7274062957733913\n",
            "0.9875270298732239\n",
            "2.6698848778906488\n",
            "2.7274062957733913\n",
            "0.9875270298732239\n",
            "2.6698848778906488\n",
            "2.7274062957733913\n"
          ]
        }
      ]
    },
    {
      "cell_type": "code",
      "source": [
        "print(b0)\n",
        "print(b1)\n",
        "print(b2)"
      ],
      "metadata": {
        "id": "mvyYJMGY6cBD",
        "colab": {
          "base_uri": "https://localhost:8080/"
        },
        "outputId": "d38f9af8-3b30-4d48-dc8a-16771b95b28f"
      },
      "execution_count": 24,
      "outputs": [
        {
          "output_type": "stream",
          "name": "stdout",
          "text": [
            "0.9875270298732239\n",
            "2.6698848778906488\n",
            "2.7274062957733913\n"
          ]
        }
      ]
    },
    {
      "cell_type": "code",
      "source": [
        "final_pred = []\n",
        "x3 = xtest[:,0]\n",
        "x4 = xtest[:,1]\n",
        "print(ytest)"
      ],
      "metadata": {
        "colab": {
          "base_uri": "https://localhost:8080/"
        },
        "id": "BedNv_Zl9__2",
        "outputId": "d2430574-4922-4c12-f4dd-3349a3fdc7cd"
      },
      "execution_count": 25,
      "outputs": [
        {
          "output_type": "stream",
          "name": "stdout",
          "text": [
            "[1 0 0 0 1 1 1 1 0 1 0 0 0 1 1 1 0 1 1 1]\n"
          ]
        }
      ]
    },
    {
      "cell_type": "code",
      "source": [
        "y_pred = [0]*len(xtest)\n",
        "y_pred"
      ],
      "metadata": {
        "colab": {
          "base_uri": "https://localhost:8080/"
        },
        "id": "5D08uKxt-Nuk",
        "outputId": "9d3b95b0-2341-4eb7-9ffe-875a80047ef0"
      },
      "execution_count": 27,
      "outputs": [
        {
          "output_type": "execute_result",
          "data": {
            "text/plain": [
              "[0, 0, 0, 0, 0, 0, 0, 0, 0, 0, 0, 0, 0, 0, 0, 0, 0, 0, 0, 0]"
            ]
          },
          "metadata": {},
          "execution_count": 27
        }
      ]
    },
    {
      "cell_type": "code",
      "source": [
        "for i in range(len(xtest)):\n",
        "  y_pred[i] = np.round(1/1+np.exp(-(b0+(b1*x3[i])+(b2*x4[i]))))\n",
        "  final_pred.append(np.ceil(y_pred[i]))\n",
        "print(final_pred)"
      ],
      "metadata": {
        "colab": {
          "base_uri": "https://localhost:8080/"
        },
        "id": "sfS6XrQR-SCd",
        "outputId": "36ebc3a3-2b14-427c-c143-aea04d316542"
      },
      "execution_count": 28,
      "outputs": [
        {
          "output_type": "stream",
          "name": "stdout",
          "text": [
            "[2.0, 2.0, 9.0, 10.0, 1.0, 1.0, 3.0, 1.0, 36.0, 1.0, 65.0, 140.0, 26.0, 1.0, 3.0, 1.0, 40.0, 1.0, 3.0, 1.0]\n"
          ]
        }
      ]
    },
    {
      "cell_type": "code",
      "source": [
        "from sklearn.metrics import accuracy_score\n",
        "\n",
        "print(\"accuracy : \",accuracy_score(ytest,y_pred))"
      ],
      "metadata": {
        "colab": {
          "base_uri": "https://localhost:8080/"
        },
        "id": "unQEWhZ7-s0X",
        "outputId": "2ad2b1ae-3501-495e-ab10-dc63da642cf7"
      },
      "execution_count": 29,
      "outputs": [
        {
          "output_type": "stream",
          "name": "stdout",
          "text": [
            "accuracy :  0.4\n"
          ]
        }
      ]
    },
    {
      "cell_type": "code",
      "source": [],
      "metadata": {
        "id": "-NxiAD_w-usU"
      },
      "execution_count": null,
      "outputs": []
    }
  ]
}